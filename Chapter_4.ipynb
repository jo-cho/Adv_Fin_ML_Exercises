{
  "nbformat": 4,
  "nbformat_minor": 0,
  "metadata": {
    "colab": {
      "name": "Chapter 4.ipynb",
      "provenance": [],
      "collapsed_sections": [],
      "include_colab_link": true
    },
    "kernelspec": {
      "name": "python3",
      "display_name": "Python 3"
    }
  },
  "cells": [
    {
      "cell_type": "markdown",
      "metadata": {
        "id": "view-in-github",
        "colab_type": "text"
      },
      "source": [
        "<a href=\"https://colab.research.google.com/github/jo-cho/Adv_Fin_ML_Exercises/blob/master/Chapter_4.ipynb\" target=\"_parent\"><img src=\"https://colab.research.google.com/assets/colab-badge.svg\" alt=\"Open In Colab\"/></a>"
      ]
    },
    {
      "cell_type": "code",
      "metadata": {
        "id": "k-uSzxrsUYZs",
        "colab_type": "code",
        "colab": {}
      },
      "source": [
        ""
      ],
      "execution_count": 0,
      "outputs": []
    },
    {
      "cell_type": "markdown",
      "metadata": {
        "id": "G4mzVeH2Uc5y",
        "colab_type": "text"
      },
      "source": [
        "# Chapter 4 Exercise"
      ]
    },
    {
      "cell_type": "code",
      "metadata": {
        "id": "CdcGIjGUUhIG",
        "colab_type": "code",
        "colab": {
          "base_uri": "https://localhost:8080/",
          "height": 139
        },
        "outputId": "e0ae95bb-bd12-4487-fb15-3520e3432183"
      },
      "source": [
        "import numpy as np\n",
        "import pandas as pd\n",
        "!pip install -q mlfinlab\n",
        "import mlfinlab\n",
        "import matplotlib.pyplot as plt\n",
        "import seaborn as sns; sns.set()\n",
        "from google.colab import drive\n",
        "drive.mount('/content/drive')"
      ],
      "execution_count": 1,
      "outputs": [
        {
          "output_type": "stream",
          "text": [
            "\u001b[?25l\r\u001b[K     |██▊                             | 10kB 23.0MB/s eta 0:00:01\r\u001b[K     |█████▌                          | 20kB 1.9MB/s eta 0:00:01\r\u001b[K     |████████▎                       | 30kB 2.7MB/s eta 0:00:01\r\u001b[K     |███████████                     | 40kB 1.8MB/s eta 0:00:01\r\u001b[K     |█████████████▉                  | 51kB 2.2MB/s eta 0:00:01\r\u001b[K     |████████████████▋               | 61kB 2.6MB/s eta 0:00:01\r\u001b[K     |███████████████████▍            | 71kB 3.0MB/s eta 0:00:01\r\u001b[K     |██████████████████████▏         | 81kB 3.4MB/s eta 0:00:01\r\u001b[K     |█████████████████████████       | 92kB 3.8MB/s eta 0:00:01\r\u001b[K     |███████████████████████████▊    | 102kB 2.9MB/s eta 0:00:01\r\u001b[K     |██████████████████████████████▌ | 112kB 2.9MB/s eta 0:00:01\r\u001b[K     |████████████████████████████████| 122kB 2.9MB/s \n",
            "\u001b[?25hGo to this URL in a browser: https://accounts.google.com/o/oauth2/auth?client_id=947318989803-6bn6qk8qdgf4n4g3pfee6491hc0brc4i.apps.googleusercontent.com&redirect_uri=urn%3aietf%3awg%3aoauth%3a2.0%3aoob&response_type=code&scope=email%20https%3a%2f%2fwww.googleapis.com%2fauth%2fdocs.test%20https%3a%2f%2fwww.googleapis.com%2fauth%2fdrive%20https%3a%2f%2fwww.googleapis.com%2fauth%2fdrive.photos.readonly%20https%3a%2f%2fwww.googleapis.com%2fauth%2fpeopleapi.readonly\n",
            "\n",
            "Enter your authorization code:\n",
            "··········\n",
            "Mounted at /content/drive\n"
          ],
          "name": "stdout"
        }
      ]
    },
    {
      "cell_type": "code",
      "metadata": {
        "id": "lNxwxAK_UyMO",
        "colab_type": "code",
        "colab": {}
      },
      "source": [
        "from mlfinlab import data_structures, features, filters, labeling"
      ],
      "execution_count": 0,
      "outputs": []
    },
    {
      "cell_type": "markdown",
      "metadata": {
        "id": "A9LgnV6qUkb0",
        "colab_type": "text"
      },
      "source": [
        "## 4.1."
      ]
    },
    {
      "cell_type": "markdown",
      "metadata": {
        "id": "M2oJnrkEVUD3",
        "colab_type": "text"
      },
      "source": [
        "## (a)"
      ]
    },
    {
      "cell_type": "code",
      "metadata": {
        "id": "3-Jr93c0VHzb",
        "colab_type": "code",
        "colab": {
          "base_uri": "https://localhost:8080/",
          "height": 303
        },
        "outputId": "79188872-8f35-4eb8-81c9-cd09eecb6a72"
      },
      "source": [
        "#달러 바 만들기\n",
        "raw_dollar_bars = data_structures.get_dollar_bars('/content/drive/My Drive/Colab Notebooks/csv/clean_IVE_tickbidask2.csv', threshold=1000000)\n",
        "#threshold = 1백만\n",
        "\n",
        "#df 다듬기\n",
        "dollar_bars = raw_dollar_bars.set_index(pd.to_datetime(raw_dollar_bars.date_time))\n",
        "dollar_bars = dollar_bars.drop(columns='date_time')\n",
        "dollar_bars.head()"
      ],
      "execution_count": 8,
      "outputs": [
        {
          "output_type": "stream",
          "text": [
            "Reading data in batches:\n",
            "Batch number: 0\n",
            "Returning bars \n",
            "\n"
          ],
          "name": "stdout"
        },
        {
          "output_type": "execute_result",
          "data": {
            "text/html": [
              "<div>\n",
              "<style scoped>\n",
              "    .dataframe tbody tr th:only-of-type {\n",
              "        vertical-align: middle;\n",
              "    }\n",
              "\n",
              "    .dataframe tbody tr th {\n",
              "        vertical-align: top;\n",
              "    }\n",
              "\n",
              "    .dataframe thead th {\n",
              "        text-align: right;\n",
              "    }\n",
              "</style>\n",
              "<table border=\"1\" class=\"dataframe\">\n",
              "  <thead>\n",
              "    <tr style=\"text-align: right;\">\n",
              "      <th></th>\n",
              "      <th>open</th>\n",
              "      <th>high</th>\n",
              "      <th>low</th>\n",
              "      <th>close</th>\n",
              "      <th>volume</th>\n",
              "    </tr>\n",
              "    <tr>\n",
              "      <th>date_time</th>\n",
              "      <th></th>\n",
              "      <th></th>\n",
              "      <th></th>\n",
              "      <th></th>\n",
              "      <th></th>\n",
              "    </tr>\n",
              "  </thead>\n",
              "  <tbody>\n",
              "    <tr>\n",
              "      <th>2009-09-28 09:46:35</th>\n",
              "      <td>50.79</td>\n",
              "      <td>51.07</td>\n",
              "      <td>50.710</td>\n",
              "      <td>51.07</td>\n",
              "      <td>19844</td>\n",
              "    </tr>\n",
              "    <tr>\n",
              "      <th>2009-09-28 09:53:49</th>\n",
              "      <td>51.07</td>\n",
              "      <td>51.15</td>\n",
              "      <td>51.050</td>\n",
              "      <td>51.14</td>\n",
              "      <td>20324</td>\n",
              "    </tr>\n",
              "    <tr>\n",
              "      <th>2009-09-28 09:55:26</th>\n",
              "      <td>51.14</td>\n",
              "      <td>51.15</td>\n",
              "      <td>51.129</td>\n",
              "      <td>51.14</td>\n",
              "      <td>19622</td>\n",
              "    </tr>\n",
              "    <tr>\n",
              "      <th>2009-09-28 10:02:52</th>\n",
              "      <td>51.14</td>\n",
              "      <td>51.26</td>\n",
              "      <td>51.080</td>\n",
              "      <td>51.25</td>\n",
              "      <td>22319</td>\n",
              "    </tr>\n",
              "    <tr>\n",
              "      <th>2009-09-28 10:10:21</th>\n",
              "      <td>51.25</td>\n",
              "      <td>51.29</td>\n",
              "      <td>51.190</td>\n",
              "      <td>51.29</td>\n",
              "      <td>21519</td>\n",
              "    </tr>\n",
              "  </tbody>\n",
              "</table>\n",
              "</div>"
            ],
            "text/plain": [
              "                      open   high     low  close  volume\n",
              "date_time                                               \n",
              "2009-09-28 09:46:35  50.79  51.07  50.710  51.07   19844\n",
              "2009-09-28 09:53:49  51.07  51.15  51.050  51.14   20324\n",
              "2009-09-28 09:55:26  51.14  51.15  51.129  51.14   19622\n",
              "2009-09-28 10:02:52  51.14  51.26  51.080  51.25   22319\n",
              "2009-09-28 10:10:21  51.25  51.29  51.190  51.29   21519"
            ]
          },
          "metadata": {
            "tags": []
          },
          "execution_count": 8
        }
      ]
    },
    {
      "cell_type": "code",
      "metadata": {
        "id": "VHmOHhq9VPOi",
        "colab_type": "code",
        "colab": {
          "base_uri": "https://localhost:8080/",
          "height": 34
        },
        "outputId": "505aacdc-5d1a-469c-aab5-f173280a67e2"
      },
      "source": [
        "len(dollar_bars)"
      ],
      "execution_count": 9,
      "outputs": [
        {
          "output_type": "execute_result",
          "data": {
            "text/plain": [
              "59578"
            ]
          },
          "metadata": {
            "tags": []
          },
          "execution_count": 9
        }
      ]
    },
    {
      "cell_type": "code",
      "metadata": {
        "id": "AiBiXDS3Va6m",
        "colab_type": "code",
        "colab": {
          "base_uri": "https://localhost:8080/",
          "height": 34
        },
        "outputId": "5e4bf396-c2a5-4eba-cb7a-f8a17765dd3b"
      },
      "source": [
        "dollar_bars = dollar_bars.reset_index().drop_duplicates(subset='date_time', keep='last').set_index('date_time')\n",
        "dollar_bars.head()\n",
        "len(dollar_bars)"
      ],
      "execution_count": 10,
      "outputs": [
        {
          "output_type": "execute_result",
          "data": {
            "text/plain": [
              "58607"
            ]
          },
          "metadata": {
            "tags": []
          },
          "execution_count": 10
        }
      ]
    },
    {
      "cell_type": "code",
      "metadata": {
        "id": "snODH4d2ZVLR",
        "colab_type": "code",
        "colab": {}
      },
      "source": [
        "close = dollar_bars.close"
      ],
      "execution_count": 0,
      "outputs": []
    },
    {
      "cell_type": "code",
      "metadata": {
        "id": "Zryt2n1FVsGR",
        "colab_type": "code",
        "colab": {}
      },
      "source": [
        "def getDailyVol(close,span0=100):\n",
        "    # daily vol reindexed to close\n",
        "    df0=close.index.searchsorted(close.index-pd.Timedelta(days=1))\n",
        "    #bp()\n",
        "    df0=df0[df0>0]\n",
        "    #bp()\n",
        "    df0=(pd.Series(close.index[df0-1],\n",
        "                   index=close.index[close.shape[0]-df0.shape[0]:]))\n",
        "    #bp()\n",
        "    try:\n",
        "        df0=close.loc[df0.index]/close.loc[df0.values].values-1 # daily rets\n",
        "    except Exception as e:\n",
        "        print(e)\n",
        "        print('adjusting shape of close.loc[df0.index]')\n",
        "        cut = close.loc[df0.index].shape[0] - close.loc[df0.values].shape[0]\n",
        "        df0=close.loc[df0.index].iloc[:-cut]/close.loc[df0.values].values-1\n",
        "    df0=df0.ewm(span=span0).std().rename('dailyVol')\n",
        "    return df0"
      ],
      "execution_count": 0,
      "outputs": []
    },
    {
      "cell_type": "code",
      "metadata": {
        "id": "5y0YR3ddW9QS",
        "colab_type": "code",
        "colab": {}
      },
      "source": [
        "DailyVol = getDailyVol(close=dollar_bars.close)\n",
        "DailyVol = DailyVol.dropna()\n",
        "h = DailyVol.mean()"
      ],
      "execution_count": 0,
      "outputs": []
    },
    {
      "cell_type": "code",
      "metadata": {
        "id": "7nlboG7fY-IY",
        "colab_type": "code",
        "colab": {}
      },
      "source": [
        "tEvents = filters.cusum_filter(close,h)"
      ],
      "execution_count": 0,
      "outputs": []
    },
    {
      "cell_type": "code",
      "metadata": {
        "id": "moO-OAfIZcIr",
        "colab_type": "code",
        "colab": {}
      },
      "source": [
        "t1 = labeling.add_vertical_barrier(tEvents,close,num_days=1)"
      ],
      "execution_count": 0,
      "outputs": []
    },
    {
      "cell_type": "code",
      "metadata": {
        "id": "Eimta3CwZmQv",
        "colab_type": "code",
        "colab": {
          "base_uri": "https://localhost:8080/",
          "height": 221
        },
        "outputId": "bcd22ca5-e53b-41a7-a6ee-d23a6d36bd71"
      },
      "source": [
        "t1"
      ],
      "execution_count": 18,
      "outputs": [
        {
          "output_type": "execute_result",
          "data": {
            "text/plain": [
              "2009-09-28 12:33:18   2009-09-29 12:34:54\n",
              "2009-09-29 09:27:39   2009-09-30 09:32:03\n",
              "2009-09-29 12:00:17   2009-09-30 12:48:14\n",
              "2009-09-30 09:44:47   2009-10-01 09:52:26\n",
              "2009-09-30 09:56:31   2009-10-01 10:00:15\n",
              "                              ...        \n",
              "2019-06-18 09:39:43   2019-06-19 09:57:29\n",
              "2019-06-20 09:30:00   2019-06-21 09:30:00\n",
              "2019-06-20 12:20:48   2019-06-21 12:28:50\n",
              "2019-06-20 15:50:44   2019-06-21 15:59:41\n",
              "2019-06-25 09:42:50   2019-06-26 09:54:29\n",
              "Name: date_time, Length: 3164, dtype: datetime64[ns]"
            ]
          },
          "metadata": {
            "tags": []
          },
          "execution_count": 18
        }
      ]
    },
    {
      "cell_type": "markdown",
      "metadata": {
        "id": "O6xbevewZtJA",
        "colab_type": "text"
      },
      "source": [
        "### (b)"
      ]
    },
    {
      "cell_type": "code",
      "metadata": {
        "id": "sNXS1XBtZpt-",
        "colab_type": "code",
        "colab": {}
      },
      "source": [
        "from mlfinlab import sample_weights, sampling"
      ],
      "execution_count": 0,
      "outputs": []
    },
    {
      "cell_type": "code",
      "metadata": {
        "id": "BXfjGPPccZ0v",
        "colab_type": "code",
        "colab": {}
      },
      "source": [
        "molecule = np.array(close.index[0:1000]) #잘 모르겠음"
      ],
      "execution_count": 0,
      "outputs": []
    },
    {
      "cell_type": "code",
      "metadata": {
        "id": "r_ucQvDQa0wH",
        "colab_type": "code",
        "colab": {}
      },
      "source": [
        "c = sampling.num_concurrent_events(close.index,t1,molecule)"
      ],
      "execution_count": 0,
      "outputs": []
    },
    {
      "cell_type": "code",
      "metadata": {
        "id": "1QWOxLDGc3gw",
        "colab_type": "code",
        "colab": {
          "base_uri": "https://localhost:8080/",
          "height": 238
        },
        "outputId": "7933eb42-2b8c-4533-b1ca-5a0123499e18"
      },
      "source": [
        "c"
      ],
      "execution_count": 44,
      "outputs": [
        {
          "output_type": "execute_result",
          "data": {
            "text/plain": [
              "date_time\n",
              "2009-09-28 12:33:18    1\n",
              "2009-09-28 13:20:29    1\n",
              "2009-09-28 13:44:27    1\n",
              "2009-09-28 14:05:46    1\n",
              "2009-09-28 14:11:43    1\n",
              "                      ..\n",
              "2010-01-19 15:08:50    1\n",
              "2010-01-19 15:34:01    1\n",
              "2010-01-20 09:32:42    1\n",
              "2010-01-20 09:57:21    1\n",
              "2010-01-20 10:54:08    2\n",
              "Length: 991, dtype: int64"
            ]
          },
          "metadata": {
            "tags": []
          },
          "execution_count": 44
        }
      ]
    },
    {
      "cell_type": "markdown",
      "metadata": {
        "id": "0g0_NMQlc8HG",
        "colab_type": "text"
      },
      "source": [
        "### (c)"
      ]
    },
    {
      "cell_type": "code",
      "metadata": {
        "id": "hIvordPCdELL",
        "colab_type": "code",
        "colab": {}
      },
      "source": [
        "\n",
        "coEvents_std = (pd.DataFrame().assign(numCoEvents = c, std = close.pct_change().dropna().ewm(50).std()))"
      ],
      "execution_count": 0,
      "outputs": []
    },
    {
      "cell_type": "code",
      "metadata": {
        "id": "HUkJviVmeAFq",
        "colab_type": "code",
        "colab": {
          "base_uri": "https://localhost:8080/",
          "height": 450
        },
        "outputId": "0854f462-f149-47e1-9dd6-f270b1af5389"
      },
      "source": [
        "coEvents_std"
      ],
      "execution_count": 46,
      "outputs": [
        {
          "output_type": "execute_result",
          "data": {
            "text/html": [
              "<div>\n",
              "<style scoped>\n",
              "    .dataframe tbody tr th:only-of-type {\n",
              "        vertical-align: middle;\n",
              "    }\n",
              "\n",
              "    .dataframe tbody tr th {\n",
              "        vertical-align: top;\n",
              "    }\n",
              "\n",
              "    .dataframe thead th {\n",
              "        text-align: right;\n",
              "    }\n",
              "</style>\n",
              "<table border=\"1\" class=\"dataframe\">\n",
              "  <thead>\n",
              "    <tr style=\"text-align: right;\">\n",
              "      <th></th>\n",
              "      <th>numCoEvents</th>\n",
              "      <th>std</th>\n",
              "    </tr>\n",
              "    <tr>\n",
              "      <th>date_time</th>\n",
              "      <th></th>\n",
              "      <th></th>\n",
              "    </tr>\n",
              "  </thead>\n",
              "  <tbody>\n",
              "    <tr>\n",
              "      <th>2009-09-28 12:33:18</th>\n",
              "      <td>1</td>\n",
              "      <td>0.000854</td>\n",
              "    </tr>\n",
              "    <tr>\n",
              "      <th>2009-09-28 13:20:29</th>\n",
              "      <td>1</td>\n",
              "      <td>0.000821</td>\n",
              "    </tr>\n",
              "    <tr>\n",
              "      <th>2009-09-28 13:44:27</th>\n",
              "      <td>1</td>\n",
              "      <td>0.000847</td>\n",
              "    </tr>\n",
              "    <tr>\n",
              "      <th>2009-09-28 14:05:46</th>\n",
              "      <td>1</td>\n",
              "      <td>0.000975</td>\n",
              "    </tr>\n",
              "    <tr>\n",
              "      <th>2009-09-28 14:11:43</th>\n",
              "      <td>1</td>\n",
              "      <td>0.001049</td>\n",
              "    </tr>\n",
              "    <tr>\n",
              "      <th>...</th>\n",
              "      <td>...</td>\n",
              "      <td>...</td>\n",
              "    </tr>\n",
              "    <tr>\n",
              "      <th>2010-01-19 15:08:50</th>\n",
              "      <td>1</td>\n",
              "      <td>0.002140</td>\n",
              "    </tr>\n",
              "    <tr>\n",
              "      <th>2010-01-19 15:34:01</th>\n",
              "      <td>1</td>\n",
              "      <td>0.002138</td>\n",
              "    </tr>\n",
              "    <tr>\n",
              "      <th>2010-01-20 09:32:42</th>\n",
              "      <td>1</td>\n",
              "      <td>0.002358</td>\n",
              "    </tr>\n",
              "    <tr>\n",
              "      <th>2010-01-20 09:57:21</th>\n",
              "      <td>1</td>\n",
              "      <td>0.002347</td>\n",
              "    </tr>\n",
              "    <tr>\n",
              "      <th>2010-01-20 10:54:08</th>\n",
              "      <td>2</td>\n",
              "      <td>0.002455</td>\n",
              "    </tr>\n",
              "  </tbody>\n",
              "</table>\n",
              "<p>991 rows × 2 columns</p>\n",
              "</div>"
            ],
            "text/plain": [
              "                     numCoEvents       std\n",
              "date_time                                 \n",
              "2009-09-28 12:33:18            1  0.000854\n",
              "2009-09-28 13:20:29            1  0.000821\n",
              "2009-09-28 13:44:27            1  0.000847\n",
              "2009-09-28 14:05:46            1  0.000975\n",
              "2009-09-28 14:11:43            1  0.001049\n",
              "...                          ...       ...\n",
              "2010-01-19 15:08:50            1  0.002140\n",
              "2010-01-19 15:34:01            1  0.002138\n",
              "2010-01-20 09:32:42            1  0.002358\n",
              "2010-01-20 09:57:21            1  0.002347\n",
              "2010-01-20 10:54:08            2  0.002455\n",
              "\n",
              "[991 rows x 2 columns]"
            ]
          },
          "metadata": {
            "tags": []
          },
          "execution_count": 46
        }
      ]
    },
    {
      "cell_type": "code",
      "metadata": {
        "id": "AM-6uO-veD9f",
        "colab_type": "code",
        "colab": {
          "base_uri": "https://localhost:8080/",
          "height": 409
        },
        "outputId": "b493a144-1d01-4eaf-d8d7-56e102a4a653"
      },
      "source": [
        "fig, ax = plt.subplots(figsize=(9,6))\n",
        "\n",
        "coEvents_std.numCoEvents.plot(legend=True, ax=ax)\n",
        "coEvents_std['std'].plot(secondary_y=True, legend=True, ax=ax)"
      ],
      "execution_count": 47,
      "outputs": [
        {
          "output_type": "execute_result",
          "data": {
            "text/plain": [
              "<matplotlib.axes._subplots.AxesSubplot at 0x7fd90288dc88>"
            ]
          },
          "metadata": {
            "tags": []
          },
          "execution_count": 47
        },
        {
          "output_type": "display_data",
          "data": {
            "image/png": "[encoded data removed]",
            "text/plain": [
              "<Figure size 648x432 with 2 Axes>"
            ]
          },
          "metadata": {
            "tags": []
          }
        }
      ]
    },
    {
      "cell_type": "markdown",
      "metadata": {
        "id": "VnPs4WWBfF5c",
        "colab_type": "text"
      },
      "source": [
        "### (d)"
      ]
    },
    {
      "cell_type": "code",
      "metadata": {
        "id": "L3PagxZneYRa",
        "colab_type": "code",
        "colab": {}
      },
      "source": [
        "import plotnine as pn"
      ],
      "execution_count": 0,
      "outputs": []
    },
    {
      "cell_type": "code",
      "metadata": {
        "id": "brzOafuKfkMd",
        "colab_type": "code",
        "colab": {
          "base_uri": "https://localhost:8080/",
          "height": 668
        },
        "outputId": "dfb9a781-c7b9-48a3-b4c4-cf243e7a6d3d"
      },
      "source": [
        "(pn.ggplot(coEvents_std, pn.aes('numCoEvents', 'std'))\n",
        " +pn.geom_point()\n",
        " +pn.stat_smooth())"
      ],
      "execution_count": 50,
      "outputs": [
        {
          "output_type": "stream",
          "text": [
            "/usr/local/lib/python3.6/dist-packages/plotnine/scales/scale.py:93: MatplotlibDeprecationWarning: \n",
            "The iterable function was deprecated in Matplotlib 3.1 and will be removed in 3.3. Use np.iterable instead.\n",
            "  if cbook.iterable(self.breaks) and cbook.iterable(self.labels):\n",
            "/usr/local/lib/python3.6/dist-packages/statsmodels/nonparametric/smoothers_lowess.py:165: RuntimeWarning: invalid value encountered in greater_equal\n",
            "  res = _lowess(y, x, frac=frac, it=it, delta=delta)\n",
            "/usr/local/lib/python3.6/dist-packages/plotnine/stats/smoothers.py:146: UserWarning: Confidence intervals are not yet implementedfor lowess smoothings.\n",
            "  warnings.warn(\"Confidence intervals are not yet implemented\"\n",
            "/usr/local/lib/python3.6/dist-packages/plotnine/utils.py:553: MatplotlibDeprecationWarning: \n",
            "The iterable function was deprecated in Matplotlib 3.1 and will be removed in 3.3. Use np.iterable instead.\n",
            "  return cbook.iterable(var) and not is_string(var)\n",
            "/usr/local/lib/python3.6/dist-packages/plotnine/layer.py:449: UserWarning: geom_smooth : Removed 991 rows containing missing values.\n",
            "  self.data = self.geom.handle_na(self.data)\n"
          ],
          "name": "stderr"
        },
        {
          "output_type": "display_data",
          "data": {
            "image/png": "[encoded data removed]",
            "text/plain": [
              "<Figure size 640x480 with 1 Axes>"
            ]
          },
          "metadata": {
            "tags": []
          }
        },
        {
          "output_type": "execute_result",
          "data": {
            "text/plain": [
              "<ggplot: (8785611794952)>"
            ]
          },
          "metadata": {
            "tags": []
          },
          "execution_count": 50
        }
      ]
    },
    {
      "cell_type": "code",
      "metadata": {
        "id": "HUk2jMtYfp8v",
        "colab_type": "code",
        "colab": {}
      },
      "source": [
        "#overlap이 많이 됐을 때 수익률 분산이 큼\n"
      ],
      "execution_count": 0,
      "outputs": []
    },
    {
      "cell_type": "markdown",
      "metadata": {
        "id": "WpG5w5bzgKdo",
        "colab_type": "text"
      },
      "source": [
        "# 4.2."
      ]
    },
    {
      "cell_type": "code",
      "metadata": {
        "id": "IsYHQ2C6htWM",
        "colab_type": "code",
        "colab": {}
      },
      "source": [
        "pt_sl=[1,1]\n",
        "target = DailyVol"
      ],
      "execution_count": 0,
      "outputs": []
    },
    {
      "cell_type": "code",
      "metadata": {
        "id": "f7cfjQehhQmi",
        "colab_type": "code",
        "colab": {
          "base_uri": "https://localhost:8080/",
          "height": 136
        },
        "outputId": "c16d0af6-457c-4d51-e719-51dd1739ecd7"
      },
      "source": [
        "tripple_barrier_events = labeling.get_events(close, tEvents,pt_sl,target,min_ret=0.01,num_threads=1,vertical_barrier_times=False,side_prediction= None)"
      ],
      "execution_count": 52,
      "outputs": [
        {
          "output_type": "stream",
          "text": [
            "/usr/local/lib/python3.6/dist-packages/mlfinlab/labeling/labeling.py:124: FutureWarning: \n",
            "Passing list-likes to .loc or [] with any missing label will raise\n",
            "KeyError in the future, you can use .reindex() as an alternative.\n",
            "\n",
            "See the documentation here:\n",
            "https://pandas.pydata.org/pandas-docs/stable/user_guide/indexing.html#deprecate-loc-reindex-listlike\n",
            "  target = target.loc[t_events]\n"
          ],
          "name": "stderr"
        }
      ]
    },
    {
      "cell_type": "code",
      "metadata": {
        "id": "P5cqG2T1gSzC",
        "colab_type": "code",
        "colab": {}
      },
      "source": [
        "tW = sampling.get_av_uniqueness_from_triple_barrier(tripple_barrier_events,close,1)"
      ],
      "execution_count": 0,
      "outputs": []
    },
    {
      "cell_type": "code",
      "metadata": {
        "id": "vSeHBSJpidNd",
        "colab_type": "code",
        "colab": {
          "base_uri": "https://localhost:8080/",
          "height": 419
        },
        "outputId": "60406be6-0ddc-4c64-8874-2dc3b6560c41"
      },
      "source": [
        "tW"
      ],
      "execution_count": 57,
      "outputs": [
        {
          "output_type": "execute_result",
          "data": {
            "text/html": [
              "<div>\n",
              "<style scoped>\n",
              "    .dataframe tbody tr th:only-of-type {\n",
              "        vertical-align: middle;\n",
              "    }\n",
              "\n",
              "    .dataframe tbody tr th {\n",
              "        vertical-align: top;\n",
              "    }\n",
              "\n",
              "    .dataframe thead th {\n",
              "        text-align: right;\n",
              "    }\n",
              "</style>\n",
              "<table border=\"1\" class=\"dataframe\">\n",
              "  <thead>\n",
              "    <tr style=\"text-align: right;\">\n",
              "      <th></th>\n",
              "      <th>tW</th>\n",
              "    </tr>\n",
              "  </thead>\n",
              "  <tbody>\n",
              "    <tr>\n",
              "      <th>2009-10-02 09:32:42</th>\n",
              "      <td>0.812500</td>\n",
              "    </tr>\n",
              "    <tr>\n",
              "      <th>2009-10-02 10:34:31</th>\n",
              "      <td>0.920000</td>\n",
              "    </tr>\n",
              "    <tr>\n",
              "      <th>2009-10-05 12:55:39</th>\n",
              "      <td>0.900000</td>\n",
              "    </tr>\n",
              "    <tr>\n",
              "      <th>2009-10-06 09:31:29</th>\n",
              "      <td>0.344048</td>\n",
              "    </tr>\n",
              "    <tr>\n",
              "      <th>2009-10-06 11:16:28</th>\n",
              "      <td>0.311538</td>\n",
              "    </tr>\n",
              "    <tr>\n",
              "      <th>...</th>\n",
              "      <td>...</td>\n",
              "    </tr>\n",
              "    <tr>\n",
              "      <th>2019-05-15 09:30:00</th>\n",
              "      <td>0.269271</td>\n",
              "    </tr>\n",
              "    <tr>\n",
              "      <th>2019-05-15 10:38:24</th>\n",
              "      <td>0.262644</td>\n",
              "    </tr>\n",
              "    <tr>\n",
              "      <th>2019-05-16 10:01:27</th>\n",
              "      <td>0.454610</td>\n",
              "    </tr>\n",
              "    <tr>\n",
              "      <th>2019-05-17 09:30:00</th>\n",
              "      <td>0.333333</td>\n",
              "    </tr>\n",
              "    <tr>\n",
              "      <th>2019-06-05 09:30:00</th>\n",
              "      <td>1.000000</td>\n",
              "    </tr>\n",
              "  </tbody>\n",
              "</table>\n",
              "<p>1088 rows × 1 columns</p>\n",
              "</div>"
            ],
            "text/plain": [
              "                           tW\n",
              "2009-10-02 09:32:42  0.812500\n",
              "2009-10-02 10:34:31  0.920000\n",
              "2009-10-05 12:55:39  0.900000\n",
              "2009-10-06 09:31:29  0.344048\n",
              "2009-10-06 11:16:28  0.311538\n",
              "...                       ...\n",
              "2019-05-15 09:30:00  0.269271\n",
              "2019-05-15 10:38:24  0.262644\n",
              "2019-05-16 10:01:27  0.454610\n",
              "2019-05-17 09:30:00  0.333333\n",
              "2019-06-05 09:30:00  1.000000\n",
              "\n",
              "[1088 rows x 1 columns]"
            ]
          },
          "metadata": {
            "tags": []
          },
          "execution_count": 57
        }
      ]
    },
    {
      "cell_type": "code",
      "metadata": {
        "id": "tifh5KTgigtT",
        "colab_type": "code",
        "colab": {}
      },
      "source": [
        "from statsmodels.tsa.ar_model import AR, ARResults"
      ],
      "execution_count": 0,
      "outputs": []
    },
    {
      "cell_type": "code",
      "metadata": {
        "id": "2JZkNBL8iyhO",
        "colab_type": "code",
        "colab": {
          "base_uri": "https://localhost:8080/",
          "height": 71
        },
        "outputId": "2d579a5d-c3a8-485e-8f4c-4ebb56377623"
      },
      "source": [
        "ar = AR(tW)\n",
        "modelar = ar.fit(1)"
      ],
      "execution_count": 70,
      "outputs": [
        {
          "output_type": "stream",
          "text": [
            "/usr/local/lib/python3.6/dist-packages/statsmodels/tsa/base/tsa_model.py:219: ValueWarning: A date index has been provided, but it has no associated frequency information and so will be ignored when e.g. forecasting.\n",
            "  ' ignored when e.g. forecasting.', ValueWarning)\n"
          ],
          "name": "stderr"
        }
      ]
    },
    {
      "cell_type": "code",
      "metadata": {
        "id": "ifilmpwzne9F",
        "colab_type": "code",
        "colab": {
          "base_uri": "https://localhost:8080/",
          "height": 68
        },
        "outputId": "179bf2d2-3235-48b3-c624-c8164721d7e0"
      },
      "source": [
        "modelar.params"
      ],
      "execution_count": 78,
      "outputs": [
        {
          "output_type": "execute_result",
          "data": {
            "text/plain": [
              "const    0.094741\n",
              "L1.tW    0.724575\n",
              "dtype: float64"
            ]
          },
          "metadata": {
            "tags": []
          },
          "execution_count": 78
        }
      ]
    },
    {
      "cell_type": "code",
      "metadata": {
        "id": "c7l4m8iejjBc",
        "colab_type": "code",
        "colab": {
          "base_uri": "https://localhost:8080/",
          "height": 136
        },
        "outputId": "ba972a31-94a3-49a8-8674-4dc741a82f48"
      },
      "source": [
        "print(modelar.pvalues,2*'\\n', modelar.tvalues)\n",
        "#yes"
      ],
      "execution_count": 88,
      "outputs": [
        {
          "output_type": "stream",
          "text": [
            "const     1.213312e-27\n",
            "L1.tW    8.382844e-261\n",
            "dtype: float64 \n",
            "\n",
            " const    10.895326\n",
            "L1.tW    34.498724\n",
            "dtype: float64\n"
          ],
          "name": "stdout"
        }
      ]
    },
    {
      "cell_type": "markdown",
      "metadata": {
        "id": "RZMaFrTvoaAh",
        "colab_type": "text"
      },
      "source": [
        "# 4.3"
      ]
    },
    {
      "cell_type": "markdown",
      "metadata": {
        "id": "3CNqfX4SgPLf",
        "colab_type": "text"
      },
      "source": [
        "## (a)"
      ]
    },
    {
      "cell_type": "code",
      "metadata": {
        "id": "fZLje9DxgEJ4",
        "colab_type": "code",
        "colab": {
          "base_uri": "https://localhost:8080/",
          "height": 136
        },
        "outputId": "fe44cf40-f834-44f8-d1d7-1dbb2a856e11"
      },
      "source": [
        "from sklearn.model_selection import train_test_split\n",
        "from sklearn.ensemble import RandomForestClassifier, RandomForestRegressor\n",
        "\n",
        "Xy = (pd.DataFrame().assign(close=close,close_lag=close.shift(1))).dropna()\n",
        "## i'm not sure what this is. \n",
        "\n",
        "y = Xy.loc[:,'close'].values\n",
        "X = Xy.loc[:,'close_lag'].values.reshape(-1,1)\n",
        "\n",
        "X_train, X_test, y_train, y_test = train_test_split(X, y, test_size=0.25,shuffle=False)\n",
        "\n",
        "n_estimator = 50\n",
        "rf = RandomForestRegressor(max_depth=2, n_estimators=n_estimator,\n",
        "                           criterion='mse', oob_score=True,\n",
        "                           )\n",
        "rf.fit(X_train, y_train)"
      ],
      "execution_count": 92,
      "outputs": [
        {
          "output_type": "execute_result",
          "data": {
            "text/plain": [
              "RandomForestRegressor(bootstrap=True, criterion='mse', max_depth=2,\n",
              "                      max_features='auto', max_leaf_nodes=None,\n",
              "                      min_impurity_decrease=0.0, min_impurity_split=None,\n",
              "                      min_samples_leaf=1, min_samples_split=2,\n",
              "                      min_weight_fraction_leaf=0.0, n_estimators=50,\n",
              "                      n_jobs=None, oob_score=True, random_state=None, verbose=0,\n",
              "                      warm_start=False)"
            ]
          },
          "metadata": {
            "tags": []
          },
          "execution_count": 92
        }
      ]
    },
    {
      "cell_type": "code",
      "metadata": {
        "id": "pcI7l7iap-8_",
        "colab_type": "code",
        "colab": {
          "base_uri": "https://localhost:8080/",
          "height": 34
        },
        "outputId": "8597de03-7c9e-4158-cf21-a9f706aed023"
      },
      "source": [
        "rf.oob_score_"
      ],
      "execution_count": 96,
      "outputs": [
        {
          "output_type": "execute_result",
          "data": {
            "text/plain": [
              "0.9299113276282317"
            ]
          },
          "metadata": {
            "tags": []
          },
          "execution_count": 96
        }
      ]
    },
    {
      "cell_type": "markdown",
      "metadata": {
        "id": "bHdCUSnpqN9Y",
        "colab_type": "text"
      },
      "source": [
        "## (b)"
      ]
    },
    {
      "cell_type": "code",
      "metadata": {
        "id": "xdXBH8PZrF9M",
        "colab_type": "code",
        "colab": {}
      },
      "source": [
        ""
      ],
      "execution_count": 0,
      "outputs": []
    }
  ]
}